{
 "cells": [
  {
   "cell_type": "code",
   "execution_count": 1,
   "metadata": {},
   "outputs": [],
   "source": [
    "\n",
    "dict1 = [{\"id\":1,\"name\":\"aaa\"}, {\"id\":2,\"name\":\"bbb\"}, {\"id\":3,\"name\":\"ccc\"}]\n",
    "dict2 = [{\"id\":1,\"value\":\"1番目\"}, {\"id\":1,\"value\":\"alter 1番目\"}, {\"id\":3,\"value\":\"3番目\"}, {\"id\":4,\"value\":\"4番目\"}]\n"
   ]
  },
  {
   "cell_type": "code",
   "execution_count": 2,
   "metadata": {},
   "outputs": [
    {
     "output_type": "execute_result",
     "data": {
      "text/plain": [
       "[{'id': 1, 'name': 'aaa', 'value': '1番目'},\n",
       " {'id': 1, 'name': 'aaa', 'value': 'alter 1番目'},\n",
       " {'id': 3, 'name': 'ccc', 'value': '3番目'}]"
      ]
     },
     "metadata": {},
     "execution_count": 2
    }
   ],
   "source": [
    "\n",
    "def merge_dict(left_dict, right_dict, key):\n",
    "    new_dic_list = []\n",
    "    for left_item in left_dict:\n",
    "        tmp_dic_list = [{**left_item, **right_item} for right_item in right_dict if left_item[key] == right_item[key]]\n",
    "        new_dic_list.extend(tmp_dic_list)\n",
    "    return new_dic_list\n",
    "\n",
    "merged_dict = merge_dict(dict1, dict2, 'id')\n",
    "merged_dict\n"
   ]
  },
  {
   "cell_type": "code",
   "execution_count": null,
   "metadata": {},
   "outputs": [],
   "source": []
  }
 ],
 "metadata": {
  "kernelspec": {
   "display_name": "Python 3",
   "language": "python",
   "name": "python3"
  },
  "language_info": {
   "codemirror_mode": {
    "name": "ipython",
    "version": 3
   },
   "file_extension": ".py",
   "mimetype": "text/x-python",
   "name": "python",
   "nbconvert_exporter": "python",
   "pygments_lexer": "ipython3",
   "version": "3.7.4-final"
  }
 },
 "nbformat": 4,
 "nbformat_minor": 4
}